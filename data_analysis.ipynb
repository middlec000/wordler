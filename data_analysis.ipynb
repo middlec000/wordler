{
 "cells": [
  {
   "cell_type": "code",
   "execution_count": 26,
   "metadata": {},
   "outputs": [],
   "source": [
    "import pandas as pd\n",
    "import seaborn as sns\n",
    "from itertools import product\n",
    "from src.helper_methods import *"
   ]
  },
  {
   "cell_type": "code",
   "execution_count": 3,
   "metadata": {},
   "outputs": [
    {
     "data": {
      "text/html": [
       "<div>\n",
       "<style scoped>\n",
       "    .dataframe tbody tr th:only-of-type {\n",
       "        vertical-align: middle;\n",
       "    }\n",
       "\n",
       "    .dataframe tbody tr th {\n",
       "        vertical-align: top;\n",
       "    }\n",
       "\n",
       "    .dataframe thead th {\n",
       "        text-align: right;\n",
       "    }\n",
       "</style>\n",
       "<table border=\"1\" class=\"dataframe\">\n",
       "  <thead>\n",
       "    <tr style=\"text-align: right;\">\n",
       "      <th></th>\n",
       "      <th>word</th>\n",
       "      <th>wordFreq</th>\n",
       "    </tr>\n",
       "  </thead>\n",
       "  <tbody>\n",
       "    <tr>\n",
       "      <th>0</th>\n",
       "      <td>AALII</td>\n",
       "      <td>0</td>\n",
       "    </tr>\n",
       "    <tr>\n",
       "      <th>1</th>\n",
       "      <td>AARGH</td>\n",
       "      <td>71592</td>\n",
       "    </tr>\n",
       "    <tr>\n",
       "      <th>2</th>\n",
       "      <td>AARTI</td>\n",
       "      <td>63273</td>\n",
       "    </tr>\n",
       "    <tr>\n",
       "      <th>3</th>\n",
       "      <td>ABACA</td>\n",
       "      <td>79841</td>\n",
       "    </tr>\n",
       "    <tr>\n",
       "      <th>4</th>\n",
       "      <td>ABACK</td>\n",
       "      <td>272920</td>\n",
       "    </tr>\n",
       "  </tbody>\n",
       "</table>\n",
       "</div>"
      ],
      "text/plain": [
       "    word  wordFreq\n",
       "0  AALII         0\n",
       "1  AARGH     71592\n",
       "2  AARTI     63273\n",
       "3  ABACA     79841\n",
       "4  ABACK    272920"
      ]
     },
     "execution_count": 3,
     "metadata": {},
     "output_type": "execute_result"
    }
   ],
   "source": [
    "df = pd.read_csv('Data-Preprocessed/word_freq_wordle_only.csv')\n",
    "df.head()"
   ]
  },
  {
   "cell_type": "markdown",
   "metadata": {},
   "source": [
    "# Vowels"
   ]
  },
  {
   "cell_type": "code",
   "execution_count": 4,
   "metadata": {},
   "outputs": [
    {
     "data": {
      "text/html": [
       "<div>\n",
       "<style scoped>\n",
       "    .dataframe tbody tr th:only-of-type {\n",
       "        vertical-align: middle;\n",
       "    }\n",
       "\n",
       "    .dataframe tbody tr th {\n",
       "        vertical-align: top;\n",
       "    }\n",
       "\n",
       "    .dataframe thead th {\n",
       "        text-align: right;\n",
       "    }\n",
       "</style>\n",
       "<table border=\"1\" class=\"dataframe\">\n",
       "  <thead>\n",
       "    <tr style=\"text-align: right;\">\n",
       "      <th></th>\n",
       "      <th>letter</th>\n",
       "      <th>place</th>\n",
       "      <th>letterFreq</th>\n",
       "    </tr>\n",
       "  </thead>\n",
       "  <tbody>\n",
       "  </tbody>\n",
       "</table>\n",
       "</div>"
      ],
      "text/plain": [
       "Empty DataFrame\n",
       "Columns: [letter, place, letterFreq]\n",
       "Index: []"
      ]
     },
     "execution_count": 4,
     "metadata": {},
     "output_type": "execute_result"
    }
   ],
   "source": [
    "vowels = ['A', 'E', 'I', 'O', 'U', 'Y']\n",
    "places = [0,1,2,3,4]\n",
    "tracker = pd.DataFrame(columns=['letter', 'place', 'letterFreq'])\n",
    "tracker"
   ]
  },
  {
   "cell_type": "markdown",
   "metadata": {},
   "source": [
    "## Distributions"
   ]
  },
  {
   "cell_type": "code",
   "execution_count": 5,
   "metadata": {},
   "outputs": [],
   "source": [
    "def get_counts(letters, places, tracker: pd.DataFrame, df: pd.DataFrame) -> pd.DataFrame:\n",
    "    for letter in letters:\n",
    "        for place in places:\n",
    "            # Generate regex\n",
    "            regex = list('.'*len(places))\n",
    "            regex[place] = letter\n",
    "            regex = ''.join(regex)\n",
    "            # Calculate and record\n",
    "            tracker = tracker.append({'letter': letter, 'place': place, 'letterFreq': len(df[df['word'].str.match(regex)])}, ignore_index=True)\n",
    "    return tracker"
   ]
  },
  {
   "cell_type": "code",
   "execution_count": 6,
   "metadata": {},
   "outputs": [],
   "source": [
    "# tracker = get_counts(letters=vowels, places=places, tracker=tracker, df=df)\n",
    "# tracker.head()"
   ]
  },
  {
   "cell_type": "code",
   "execution_count": 7,
   "metadata": {},
   "outputs": [],
   "source": [
    "# sns.scatterplot(data=tracker, x='place', y='letterFreq', hue='letter')"
   ]
  },
  {
   "cell_type": "markdown",
   "metadata": {},
   "source": [
    "### Results\n",
    "Most frequent (vowel, location)s:  \n",
    "A, 1  \n",
    "O, 1  \n",
    "E, 1  \n",
    "E, 3  \n",
    "E, 4  "
   ]
  },
  {
   "cell_type": "markdown",
   "metadata": {},
   "source": [
    "# Information Approach\n",
    "Score each word on the potential information guessing it may provide.  \n",
    "* How many words can be potentially ruled out using exact letter matching?\n",
    "  - sum(if match on each letter, proportion of words ruled out)\n",
    "* How many words can be potentially ruled out using letter exclusions?\n",
    "  - sum(if each letter is excluded, proportion of words ruled out)\n",
    "* How many words can be potentially ruled out using inexact matches?\n",
    "  - sum(if each letter is inexact match, proportion of words ruled out)\n",
    "\n",
    "1. Calculate potential Filtering Power (FP) for each word based on remaining words.\n",
    "   * For each word, look at each (letter, index) = ($l_i$, $i$)\n",
    "2. Choose the word with the highest potential FP.\n",
    "\n",
    "\\begin{equation}\n",
    "\\text{FP}(w_k) = \\sum_i \\Big( \\text{FP}_{\\text{exclude}}(l_i) + \\text{FP}_{\\text{match-exact}}(l_i, i) + \\text{FP}_{\\text{match-inexact}}(l_i, i) \\Big)\n",
    "\\end{equation}\n",
    "\\begin{equation}\n",
    "\\text{FP}(l_i, i) = len(\\text{unfiltered corpus}) - len(\\text{filtered corpus}(l_i, i))\n",
    "\\end{equation}\n",
    "\n",
    "Equivalently - just sum over length of filtered corpus at each step, then look for minimum.  \n",
    "\n",
    "After guessing and receiving feedback on a word, how much is the feedback from that word expected to reduce word pool?"
   ]
  },
  {
   "cell_type": "code",
   "execution_count": 21,
   "metadata": {},
   "outputs": [],
   "source": [
    "def get_regex(letter: str, place: int, word_length: int) -> str:\n",
    "    regex = list('.'*word_length)\n",
    "    regex[place] = letter\n",
    "    return ''.join(regex)\n",
    "\n",
    "\n",
    "def fp(word: str, words: pd.DataFrame) -> pd.DataFrame:\n",
    "    # TODO: redo this for all possible outcomes: (exact, inexact), (inexact, exclude), etc.\n",
    "    res = {'word':word, 'num_post_exclude':0, 'num_post_exact':0, 'num_post_inexact':0}\n",
    "    for place in range(len(word)):\n",
    "        letter = word[place]\n",
    "        # Exclusions\n",
    "        res['num_post_exclude'] += len(filter_exclude(exclude=set(letter), words=words))\n",
    "        # Exact matches\n",
    "        regex = get_regex(letter=letter, place=place, word_length=len(word))\n",
    "        res['num_post_exact'] += len(filter_exact(exact=regex, words=words))\n",
    "        # Inexact matches\n",
    "        res['num_post_inexact'] += len(filter_inexact(inexact={letter: set({place})}, words=words, word_length=len(word)))\n",
    "    return res\n",
    "\n",
    "def get_potential_fp(words: pd.DataFrame) -> pd.DataFrame:\n",
    "    word_length = len(words['word'].iloc[0])\n",
    "    outcomes = ['exact', 'exclude', 'inexact']\n",
    "    list1 = list(product(['exact', 'exclude', 'inexact'], range(3)))\n",
    "    list2 = [str(x)+str(y) for (x,y) in list1]\n",
    "    list3 = list(product(list2, list2))\n",
    "    list3 = [str(x)+\"_\"+str(y) for (x,y) in list3 if x != y]\n",
    "    columns = ['word'] + list3\n",
    "\n",
    "    df_res = pd.DataFrame(columns=columns)\n",
    "    for word in words['word']:\n",
    "        df_res = pd.concat([df_res, pd.DataFrame(data=fp(word=word, columns=columns, words=words), index=[0])], ignore_index=True)\n",
    "    for col in ['num_post_exclude', 'num_post_exact', 'num_post_inexact']:\n",
    "        df_res[col] = df_res[col].astype('int')\n",
    "    df_res['word'] = df_res['word'].astype('str')\n",
    "    res_max = df_res[['num_post_exclude', 'num_post_exact', 'num_post_inexact']].max(axis=1).max()\n",
    "    df_res['min_post_num'] = df_res[['num_post_exclude', 'num_post_exact', 'num_post_inexact']].replace(0, res_max).min(axis=1).astype('int')\n",
    "    return df_res.sort_values(by='min_post_num')"
   ]
  },
  {
   "cell_type": "code",
   "execution_count": 24,
   "metadata": {},
   "outputs": [
    {
     "data": {
      "text/html": [
       "<div>\n",
       "<style scoped>\n",
       "    .dataframe tbody tr th:only-of-type {\n",
       "        vertical-align: middle;\n",
       "    }\n",
       "\n",
       "    .dataframe tbody tr th {\n",
       "        vertical-align: top;\n",
       "    }\n",
       "\n",
       "    .dataframe thead th {\n",
       "        text-align: right;\n",
       "    }\n",
       "</style>\n",
       "<table border=\"1\" class=\"dataframe\">\n",
       "  <thead>\n",
       "    <tr style=\"text-align: right;\">\n",
       "      <th></th>\n",
       "      <th>word</th>\n",
       "      <th>num_post_exclude</th>\n",
       "      <th>num_post_exact</th>\n",
       "      <th>num_post_inexact</th>\n",
       "      <th>min_post_num</th>\n",
       "      <th>sum</th>\n",
       "    </tr>\n",
       "  </thead>\n",
       "  <tbody>\n",
       "    <tr>\n",
       "      <th>0</th>\n",
       "      <td>AB</td>\n",
       "      <td>3</td>\n",
       "      <td>2</td>\n",
       "      <td>3</td>\n",
       "      <td>2</td>\n",
       "      <td>8</td>\n",
       "    </tr>\n",
       "    <tr>\n",
       "      <th>1</th>\n",
       "      <td>BA</td>\n",
       "      <td>3</td>\n",
       "      <td>3</td>\n",
       "      <td>2</td>\n",
       "      <td>2</td>\n",
       "      <td>8</td>\n",
       "    </tr>\n",
       "    <tr>\n",
       "      <th>2</th>\n",
       "      <td>BC</td>\n",
       "      <td>3</td>\n",
       "      <td>3</td>\n",
       "      <td>2</td>\n",
       "      <td>2</td>\n",
       "      <td>8</td>\n",
       "    </tr>\n",
       "    <tr>\n",
       "      <th>3</th>\n",
       "      <td>CD</td>\n",
       "      <td>5</td>\n",
       "      <td>2</td>\n",
       "      <td>1</td>\n",
       "      <td>1</td>\n",
       "      <td>8</td>\n",
       "    </tr>\n",
       "  </tbody>\n",
       "</table>\n",
       "</div>"
      ],
      "text/plain": [
       "  word  num_post_exclude  num_post_exact  num_post_inexact  min_post_num  sum\n",
       "0   AB                 3               2                 3             2    8\n",
       "1   BA                 3               3                 2             2    8\n",
       "2   BC                 3               3                 2             2    8\n",
       "3   CD                 5               2                 1             1    8"
      ]
     },
     "execution_count": 24,
     "metadata": {},
     "output_type": "execute_result"
    }
   ],
   "source": [
    "df_test = pd.DataFrame(data={\n",
    "    'word':['AB', 'BA', 'BC','CD'],\n",
    "    'wordFreq':[3,4,5,5]\n",
    "})\n",
    "\n",
    "df_test = get_potential_fp(words=df_test).sort_index()\n",
    "df_test['sum'] = df_test[['num_post_exclude', 'num_post_exact', 'num_post_inexact']].sum(axis=1)\n",
    "df_test"
   ]
  }
 ],
 "metadata": {
  "interpreter": {
   "hash": "d4e65fd403391fc192a9df0a2101c61986140267a07df91da3704987550b2fb5"
  },
  "kernelspec": {
   "display_name": "Python 3.8.12 ('base')",
   "language": "python",
   "name": "python3"
  },
  "language_info": {
   "codemirror_mode": {
    "name": "ipython",
    "version": 3
   },
   "file_extension": ".py",
   "mimetype": "text/x-python",
   "name": "python",
   "nbconvert_exporter": "python",
   "pygments_lexer": "ipython3",
   "version": "3.8.12"
  },
  "orig_nbformat": 4
 },
 "nbformat": 4,
 "nbformat_minor": 2
}
