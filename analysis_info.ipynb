{
 "cells": [
  {
   "cell_type": "code",
   "execution_count": 3,
   "metadata": {},
   "outputs": [
    {
     "data": {
      "text/html": [
       "<div>\n",
       "<style scoped>\n",
       "    .dataframe tbody tr th:only-of-type {\n",
       "        vertical-align: middle;\n",
       "    }\n",
       "\n",
       "    .dataframe tbody tr th {\n",
       "        vertical-align: top;\n",
       "    }\n",
       "\n",
       "    .dataframe thead th {\n",
       "        text-align: right;\n",
       "    }\n",
       "</style>\n",
       "<table border=\"1\" class=\"dataframe\">\n",
       "  <thead>\n",
       "    <tr style=\"text-align: right;\">\n",
       "      <th></th>\n",
       "      <th>wordFreq</th>\n",
       "      <th>letterFreqSum</th>\n",
       "      <th>letterPosFreqSum</th>\n",
       "    </tr>\n",
       "    <tr>\n",
       "      <th>word</th>\n",
       "      <th></th>\n",
       "      <th></th>\n",
       "      <th></th>\n",
       "    </tr>\n",
       "  </thead>\n",
       "  <tbody>\n",
       "    <tr>\n",
       "      <th>CIGAR</th>\n",
       "      <td>3993843.0</td>\n",
       "      <td>17549</td>\n",
       "      <td>4408</td>\n",
       "    </tr>\n",
       "    <tr>\n",
       "      <th>REBUT</th>\n",
       "      <td>235254.0</td>\n",
       "      <td>18231</td>\n",
       "      <td>3715</td>\n",
       "    </tr>\n",
       "    <tr>\n",
       "      <th>SISSY</th>\n",
       "      <td>1410911.0</td>\n",
       "      <td>12467</td>\n",
       "      <td>5283</td>\n",
       "    </tr>\n",
       "    <tr>\n",
       "      <th>HUMPH</th>\n",
       "      <td>60767.0</td>\n",
       "      <td>8250</td>\n",
       "      <td>2968</td>\n",
       "    </tr>\n",
       "    <tr>\n",
       "      <th>AWAKE</th>\n",
       "      <td>3230337.0</td>\n",
       "      <td>15168</td>\n",
       "      <td>4153</td>\n",
       "    </tr>\n",
       "  </tbody>\n",
       "</table>\n",
       "</div>"
      ],
      "text/plain": [
       "        wordFreq  letterFreqSum  letterPosFreqSum\n",
       "word                                             \n",
       "CIGAR  3993843.0          17549              4408\n",
       "REBUT   235254.0          18231              3715\n",
       "SISSY  1410911.0          12467              5283\n",
       "HUMPH    60767.0           8250              2968\n",
       "AWAKE  3230337.0          15168              4153"
      ]
     },
     "execution_count": 3,
     "metadata": {},
     "output_type": "execute_result"
    }
   ],
   "source": [
    "import pandas as pd\n",
    "from src.helper_methods import *\n",
    "\n",
    "words = pd.read_csv('Data-Preprocessed/word_freq.csv').set_index('word')\n",
    "words.head()"
   ]
  },
  {
   "cell_type": "code",
   "execution_count": 4,
   "metadata": {},
   "outputs": [],
   "source": [
    "# words[[0,1,2,3,4]] = words['word'].str.split('', n=5, expand=True)[[1,2,3,4,5]]\n",
    "# words.head()"
   ]
  },
  {
   "cell_type": "code",
   "execution_count": 6,
   "metadata": {},
   "outputs": [
    {
     "data": {
      "text/html": [
       "<div>\n",
       "<style scoped>\n",
       "    .dataframe tbody tr th:only-of-type {\n",
       "        vertical-align: middle;\n",
       "    }\n",
       "\n",
       "    .dataframe tbody tr th {\n",
       "        vertical-align: top;\n",
       "    }\n",
       "\n",
       "    .dataframe thead th {\n",
       "        text-align: right;\n",
       "    }\n",
       "</style>\n",
       "<table border=\"1\" class=\"dataframe\">\n",
       "  <thead>\n",
       "    <tr style=\"text-align: right;\">\n",
       "      <th></th>\n",
       "      <th>wordFreq</th>\n",
       "      <th>letterFreqSum</th>\n",
       "      <th>letterPosFreqSum</th>\n",
       "      <th>ELR</th>\n",
       "    </tr>\n",
       "    <tr>\n",
       "      <th>word</th>\n",
       "      <th></th>\n",
       "      <th></th>\n",
       "      <th></th>\n",
       "      <th></th>\n",
       "    </tr>\n",
       "  </thead>\n",
       "  <tbody>\n",
       "    <tr>\n",
       "      <th>CIGAR</th>\n",
       "      <td>3993843.0</td>\n",
       "      <td>17549</td>\n",
       "      <td>4408</td>\n",
       "      <td>0.84</td>\n",
       "    </tr>\n",
       "    <tr>\n",
       "      <th>REBUT</th>\n",
       "      <td>235254.0</td>\n",
       "      <td>18231</td>\n",
       "      <td>3715</td>\n",
       "      <td>0.82</td>\n",
       "    </tr>\n",
       "    <tr>\n",
       "      <th>SISSY</th>\n",
       "      <td>1410911.0</td>\n",
       "      <td>12467</td>\n",
       "      <td>5283</td>\n",
       "      <td>0.60</td>\n",
       "    </tr>\n",
       "    <tr>\n",
       "      <th>HUMPH</th>\n",
       "      <td>60767.0</td>\n",
       "      <td>8250</td>\n",
       "      <td>2968</td>\n",
       "      <td>0.48</td>\n",
       "    </tr>\n",
       "    <tr>\n",
       "      <th>AWAKE</th>\n",
       "      <td>3230337.0</td>\n",
       "      <td>15168</td>\n",
       "      <td>4153</td>\n",
       "      <td>0.82</td>\n",
       "    </tr>\n",
       "  </tbody>\n",
       "</table>\n",
       "</div>"
      ],
      "text/plain": [
       "        wordFreq  letterFreqSum  letterPosFreqSum   ELR\n",
       "word                                                   \n",
       "CIGAR  3993843.0          17549              4408  0.84\n",
       "REBUT   235254.0          18231              3715  0.82\n",
       "SISSY  1410911.0          12467              5283  0.60\n",
       "HUMPH    60767.0           8250              2968  0.48\n",
       "AWAKE  3230337.0          15168              4153  0.82"
      ]
     },
     "execution_count": 6,
     "metadata": {},
     "output_type": "execute_result"
    }
   ],
   "source": [
    "words = elr(words=words.iloc[:10], word_legnth=5)\n",
    "words.head()"
   ]
  }
 ],
 "metadata": {
  "interpreter": {
   "hash": "d4e65fd403391fc192a9df0a2101c61986140267a07df91da3704987550b2fb5"
  },
  "kernelspec": {
   "display_name": "Python 3.8.12 ('base')",
   "language": "python",
   "name": "python3"
  },
  "language_info": {
   "codemirror_mode": {
    "name": "ipython",
    "version": 3
   },
   "file_extension": ".py",
   "mimetype": "text/x-python",
   "name": "python",
   "nbconvert_exporter": "python",
   "pygments_lexer": "ipython3",
   "version": "3.8.13"
  },
  "orig_nbformat": 4
 },
 "nbformat": 4,
 "nbformat_minor": 2
}
