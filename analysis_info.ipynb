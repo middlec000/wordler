{
 "cells": [
  {
   "cell_type": "code",
   "execution_count": 1,
   "metadata": {},
   "outputs": [
    {
     "data": {
      "text/html": [
       "<div>\n",
       "<style scoped>\n",
       "    .dataframe tbody tr th:only-of-type {\n",
       "        vertical-align: middle;\n",
       "    }\n",
       "\n",
       "    .dataframe tbody tr th {\n",
       "        vertical-align: top;\n",
       "    }\n",
       "\n",
       "    .dataframe thead th {\n",
       "        text-align: right;\n",
       "    }\n",
       "</style>\n",
       "<table border=\"1\" class=\"dataframe\">\n",
       "  <thead>\n",
       "    <tr style=\"text-align: right;\">\n",
       "      <th></th>\n",
       "      <th>wordFreq</th>\n",
       "    </tr>\n",
       "    <tr>\n",
       "      <th>word</th>\n",
       "      <th></th>\n",
       "    </tr>\n",
       "  </thead>\n",
       "  <tbody>\n",
       "    <tr>\n",
       "      <th>AALII</th>\n",
       "      <td>0</td>\n",
       "    </tr>\n",
       "    <tr>\n",
       "      <th>AARGH</th>\n",
       "      <td>71592</td>\n",
       "    </tr>\n",
       "    <tr>\n",
       "      <th>AARTI</th>\n",
       "      <td>63273</td>\n",
       "    </tr>\n",
       "    <tr>\n",
       "      <th>ABACA</th>\n",
       "      <td>79841</td>\n",
       "    </tr>\n",
       "    <tr>\n",
       "      <th>ABACK</th>\n",
       "      <td>272920</td>\n",
       "    </tr>\n",
       "  </tbody>\n",
       "</table>\n",
       "</div>"
      ],
      "text/plain": [
       "       wordFreq\n",
       "word           \n",
       "AALII         0\n",
       "AARGH     71592\n",
       "AARTI     63273\n",
       "ABACA     79841\n",
       "ABACK    272920"
      ]
     },
     "execution_count": 1,
     "metadata": {},
     "output_type": "execute_result"
    }
   ],
   "source": [
    "import pandas as pd\n",
    "from src.helper_methods import *\n",
    "\n",
    "words = pd.read_csv('Data-Preprocessed/word_freq_wordle_only.csv').set_index('word')\n",
    "words.head()"
   ]
  },
  {
   "cell_type": "code",
   "execution_count": 2,
   "metadata": {},
   "outputs": [
    {
     "ename": "KeyboardInterrupt",
     "evalue": "",
     "output_type": "error",
     "traceback": [
      "\u001b[1;31m---------------------------------------------------------------------------\u001b[0m",
      "\u001b[1;31mKeyboardInterrupt\u001b[0m                         Traceback (most recent call last)",
      "\u001b[1;32mc:\\Users\\colin\\Documents\\GitHub\\wordler\\analysis_info.ipynb Cell 3'\u001b[0m in \u001b[0;36m<cell line: 1>\u001b[1;34m()\u001b[0m\n\u001b[1;32m----> <a href='vscode-notebook-cell:/c%3A/Users/colin/Documents/GitHub/wordler/analysis_info.ipynb#ch0000005?line=0'>1</a>\u001b[0m words \u001b[39m=\u001b[39m elr(words\u001b[39m=\u001b[39;49mwords, word_legnth\u001b[39m=\u001b[39;49m\u001b[39m5\u001b[39;49m)\n",
      "File \u001b[1;32mc:\\Users\\colin\\Documents\\GitHub\\wordler\\src\\helper_methods.py:308\u001b[0m, in \u001b[0;36melr\u001b[1;34m(words, word_legnth)\u001b[0m\n\u001b[0;32m    <a href='file:///c%3A/Users/colin/Documents/GitHub/wordler/src/helper_methods.py?line=305'>306</a>\u001b[0m         \u001b[39mif\u001b[39;00m guess \u001b[39m!=\u001b[39m potential_wordle_word:\n\u001b[0;32m    <a href='file:///c%3A/Users/colin/Documents/GitHub/wordler/src/helper_methods.py?line=306'>307</a>\u001b[0m             guesses \u001b[39m=\u001b[39m {guess: compare(guess\u001b[39m=\u001b[39mguess, actual\u001b[39m=\u001b[39mpotential_wordle_word)}\n\u001b[1;32m--> <a href='file:///c%3A/Users/colin/Documents/GitHub/wordler/src/helper_methods.py?line=307'>308</a>\u001b[0m             filtered_words \u001b[39m=\u001b[39m filter_words(guesses\u001b[39m=\u001b[39;49mguesses, words\u001b[39m=\u001b[39;49mwords, remove_previous_wordle_words\u001b[39m=\u001b[39;49m\u001b[39mFalse\u001b[39;49;00m, word_length\u001b[39m=\u001b[39;49mword_legnth)\n\u001b[0;32m    <a href='file:///c%3A/Users/colin/Documents/GitHub/wordler/src/helper_methods.py?line=308'>309</a>\u001b[0m             tracker\u001b[39m.\u001b[39mloc[guess, \u001b[39m'\u001b[39m\u001b[39mELR\u001b[39m\u001b[39m'\u001b[39m] \u001b[39m+\u001b[39m\u001b[39m=\u001b[39m \u001b[39mlen\u001b[39m(filtered_words)\n\u001b[0;32m    <a href='file:///c%3A/Users/colin/Documents/GitHub/wordler/src/helper_methods.py?line=309'>310</a>\u001b[0m tracker[\u001b[39m'\u001b[39m\u001b[39mELR\u001b[39m\u001b[39m'\u001b[39m] \u001b[39m=\u001b[39m (\u001b[39m1\u001b[39m \u001b[39m/\u001b[39m \u001b[39mlen\u001b[39m(words)\u001b[39m*\u001b[39m\u001b[39m*\u001b[39m\u001b[39m3\u001b[39m) \u001b[39m*\u001b[39m (\u001b[39mlen\u001b[39m(words)\u001b[39m*\u001b[39m\u001b[39m*\u001b[39m\u001b[39m3\u001b[39m \u001b[39m-\u001b[39m tracker[\u001b[39m'\u001b[39m\u001b[39mELR\u001b[39m\u001b[39m'\u001b[39m])\n",
      "File \u001b[1;32mc:\\Users\\colin\\Documents\\GitHub\\wordler\\src\\helper_methods.py:166\u001b[0m, in \u001b[0;36mfilter_words\u001b[1;34m(guesses, words, remove_previous_wordle_words, word_length)\u001b[0m\n\u001b[0;32m    <a href='file:///c%3A/Users/colin/Documents/GitHub/wordler/src/helper_methods.py?line=163'>164</a>\u001b[0m \u001b[39m# Filter exact matches\u001b[39;00m\n\u001b[0;32m    <a href='file:///c%3A/Users/colin/Documents/GitHub/wordler/src/helper_methods.py?line=164'>165</a>\u001b[0m filtered_words \u001b[39m=\u001b[39m filtered_words\u001b[39m.\u001b[39mfilter(regex\u001b[39m=\u001b[39m\u001b[39m'\u001b[39m\u001b[39m'\u001b[39m\u001b[39m.\u001b[39mjoin(knowns[\u001b[39m'\u001b[39m\u001b[39mexact\u001b[39m\u001b[39m'\u001b[39m]), axis\u001b[39m=\u001b[39m\u001b[39m0\u001b[39m)\n\u001b[1;32m--> <a href='file:///c%3A/Users/colin/Documents/GitHub/wordler/src/helper_methods.py?line=165'>166</a>\u001b[0m filtered_words \u001b[39m=\u001b[39m filter_exclude(exclude\u001b[39m=\u001b[39;49mknowns[\u001b[39m'\u001b[39;49m\u001b[39mexclude\u001b[39;49m\u001b[39m'\u001b[39;49m], words\u001b[39m=\u001b[39;49mfiltered_words)\n\u001b[0;32m    <a href='file:///c%3A/Users/colin/Documents/GitHub/wordler/src/helper_methods.py?line=166'>167</a>\u001b[0m filtered_words \u001b[39m=\u001b[39m filter_exclude_at(exclude_at\u001b[39m=\u001b[39mknowns[\u001b[39m'\u001b[39m\u001b[39mexclude_at\u001b[39m\u001b[39m'\u001b[39m], words\u001b[39m=\u001b[39mfiltered_words, word_length\u001b[39m=\u001b[39m\u001b[39mlen\u001b[39m(knowns[\u001b[39m'\u001b[39m\u001b[39mexact\u001b[39m\u001b[39m'\u001b[39m]))\n\u001b[0;32m    <a href='file:///c%3A/Users/colin/Documents/GitHub/wordler/src/helper_methods.py?line=167'>168</a>\u001b[0m filtered_words \u001b[39m=\u001b[39m filter_max_num_letter(max_num_letter\u001b[39m=\u001b[39mknowns[\u001b[39m'\u001b[39m\u001b[39mmax_num_letter\u001b[39m\u001b[39m'\u001b[39m], words\u001b[39m=\u001b[39mfiltered_words)\n",
      "File \u001b[1;32mc:\\Users\\colin\\Documents\\GitHub\\wordler\\src\\helper_methods.py:203\u001b[0m, in \u001b[0;36mfilter_exclude\u001b[1;34m(exclude, words)\u001b[0m\n\u001b[0;32m    <a href='file:///c%3A/Users/colin/Documents/GitHub/wordler/src/helper_methods.py?line=200'>201</a>\u001b[0m \u001b[39mfor\u001b[39;00m exclusion \u001b[39min\u001b[39;00m exclude:\n\u001b[0;32m    <a href='file:///c%3A/Users/colin/Documents/GitHub/wordler/src/helper_methods.py?line=201'>202</a>\u001b[0m     mask \u001b[39m=\u001b[39m words\u001b[39m.\u001b[39mindex\u001b[39m.\u001b[39mstr\u001b[39m.\u001b[39mcontains(exclusion) \u001b[39m|\u001b[39m mask\n\u001b[1;32m--> <a href='file:///c%3A/Users/colin/Documents/GitHub/wordler/src/helper_methods.py?line=202'>203</a>\u001b[0m \u001b[39mreturn\u001b[39;00m words[\u001b[39m~\u001b[39;49mmask]\n",
      "File \u001b[1;32m~\\anaconda3\\envs\\streamlit_projects\\lib\\site-packages\\pandas\\core\\frame.py:3015\u001b[0m, in \u001b[0;36mDataFrame.__getitem__\u001b[1;34m(self, key)\u001b[0m\n\u001b[0;32m   <a href='file:///c%3A/Users/colin/anaconda3/envs/streamlit_projects/lib/site-packages/pandas/core/frame.py?line=3012'>3013</a>\u001b[0m \u001b[39m# Do we have a (boolean) 1d indexer?\u001b[39;00m\n\u001b[0;32m   <a href='file:///c%3A/Users/colin/anaconda3/envs/streamlit_projects/lib/site-packages/pandas/core/frame.py?line=3013'>3014</a>\u001b[0m \u001b[39mif\u001b[39;00m com\u001b[39m.\u001b[39mis_bool_indexer(key):\n\u001b[1;32m-> <a href='file:///c%3A/Users/colin/anaconda3/envs/streamlit_projects/lib/site-packages/pandas/core/frame.py?line=3014'>3015</a>\u001b[0m     \u001b[39mreturn\u001b[39;00m \u001b[39mself\u001b[39;49m\u001b[39m.\u001b[39;49m_getitem_bool_array(key)\n\u001b[0;32m   <a href='file:///c%3A/Users/colin/anaconda3/envs/streamlit_projects/lib/site-packages/pandas/core/frame.py?line=3016'>3017</a>\u001b[0m \u001b[39m# We are left with two options: a single key, and a collection of keys,\u001b[39;00m\n\u001b[0;32m   <a href='file:///c%3A/Users/colin/anaconda3/envs/streamlit_projects/lib/site-packages/pandas/core/frame.py?line=3017'>3018</a>\u001b[0m \u001b[39m# We interpret tuples as collections only for non-MultiIndex\u001b[39;00m\n\u001b[0;32m   <a href='file:///c%3A/Users/colin/anaconda3/envs/streamlit_projects/lib/site-packages/pandas/core/frame.py?line=3018'>3019</a>\u001b[0m is_single_key \u001b[39m=\u001b[39m \u001b[39misinstance\u001b[39m(key, \u001b[39mtuple\u001b[39m) \u001b[39mor\u001b[39;00m \u001b[39mnot\u001b[39;00m is_list_like(key)\n",
      "File \u001b[1;32m~\\anaconda3\\envs\\streamlit_projects\\lib\\site-packages\\pandas\\core\\frame.py:3069\u001b[0m, in \u001b[0;36mDataFrame._getitem_bool_array\u001b[1;34m(self, key)\u001b[0m\n\u001b[0;32m   <a href='file:///c%3A/Users/colin/anaconda3/envs/streamlit_projects/lib/site-packages/pandas/core/frame.py?line=3065'>3066</a>\u001b[0m \u001b[39m# check_bool_indexer will throw exception if Series key cannot\u001b[39;00m\n\u001b[0;32m   <a href='file:///c%3A/Users/colin/anaconda3/envs/streamlit_projects/lib/site-packages/pandas/core/frame.py?line=3066'>3067</a>\u001b[0m \u001b[39m# be reindexed to match DataFrame rows\u001b[39;00m\n\u001b[0;32m   <a href='file:///c%3A/Users/colin/anaconda3/envs/streamlit_projects/lib/site-packages/pandas/core/frame.py?line=3067'>3068</a>\u001b[0m key \u001b[39m=\u001b[39m check_bool_indexer(\u001b[39mself\u001b[39m\u001b[39m.\u001b[39mindex, key)\n\u001b[1;32m-> <a href='file:///c%3A/Users/colin/anaconda3/envs/streamlit_projects/lib/site-packages/pandas/core/frame.py?line=3068'>3069</a>\u001b[0m indexer \u001b[39m=\u001b[39m key\u001b[39m.\u001b[39;49mnonzero()[\u001b[39m0\u001b[39m]\n\u001b[0;32m   <a href='file:///c%3A/Users/colin/anaconda3/envs/streamlit_projects/lib/site-packages/pandas/core/frame.py?line=3069'>3070</a>\u001b[0m \u001b[39mreturn\u001b[39;00m \u001b[39mself\u001b[39m\u001b[39m.\u001b[39m_take_with_is_copy(indexer, axis\u001b[39m=\u001b[39m\u001b[39m0\u001b[39m)\n",
      "\u001b[1;31mKeyboardInterrupt\u001b[0m: "
     ]
    }
   ],
   "source": [
    "words = elr(words=words, word_legnth=5)"
   ]
  }
 ],
 "metadata": {
  "interpreter": {
   "hash": "d4e65fd403391fc192a9df0a2101c61986140267a07df91da3704987550b2fb5"
  },
  "kernelspec": {
   "display_name": "Python 3.8.12 ('base')",
   "language": "python",
   "name": "python3"
  },
  "language_info": {
   "codemirror_mode": {
    "name": "ipython",
    "version": 3
   },
   "file_extension": ".py",
   "mimetype": "text/x-python",
   "name": "python",
   "nbconvert_exporter": "python",
   "pygments_lexer": "ipython3",
   "version": "3.8.13"
  },
  "orig_nbformat": 4
 },
 "nbformat": 4,
 "nbformat_minor": 2
}
