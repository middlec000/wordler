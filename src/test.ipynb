{
 "cells": [
  {
   "cell_type": "code",
   "execution_count": 1,
   "metadata": {},
   "outputs": [],
   "source": [
    "import pandas as pd\n",
    "from helper_methods import *"
   ]
  },
  {
   "cell_type": "code",
   "execution_count": 2,
   "metadata": {},
   "outputs": [],
   "source": [
    "datapath = 'https://raw.githubusercontent.com/middlec000/wordler/main/Data-Preprocessed/word_freq_wordle_only.csv'\n",
    "data = pd.read_csv(datapath).sort_values(by='wordFreq', ascending=False)"
   ]
  },
  {
   "cell_type": "code",
   "execution_count": 3,
   "metadata": {},
   "outputs": [
    {
     "data": {
      "text/plain": [
       "{'letters': {'A': {0, 1}, 'I': {3, 4}}, 'indices': {0, 1, 3, 4}}"
      ]
     },
     "execution_count": 3,
     "metadata": {},
     "output_type": "execute_result"
    }
   ],
   "source": [
    "repeated_letter(word='AALII')"
   ]
  },
  {
   "cell_type": "code",
   "execution_count": 4,
   "metadata": {},
   "outputs": [
    {
     "name": "stdout",
     "output_type": "stream",
     "text": [
      "{'exact': ['.', '.', '.', 'I', '.'], 'exclude_at': {'A': {0, 1}, 'I': {4}}, 'exclude': {'L'}, 'max_num_letter': {'A': 1}, 'min_num_letter': {'A': 1, 'I': 2}}\n"
     ]
    }
   ],
   "source": [
    "guesses = {\n",
    "    'AALII':[1,0,0,2,1]\n",
    "}\n",
    "\n",
    "knowns = {\n",
    "    'exact':['.']*5,\n",
    "    'exclude_at':{},\n",
    "    'exclude':set({}),\n",
    "    'max_num_letter':{},\n",
    "    'min_num_letter':{}\n",
    "}\n",
    "\n",
    "for guess in guesses:\n",
    "    knowns = add_known_info(guess=guess, result=guesses[guess], knowns=knowns)\n",
    "\n",
    "print(knowns)"
   ]
  },
  {
   "cell_type": "code",
   "execution_count": 7,
   "metadata": {},
   "outputs": [],
   "source": [
    "def filter_min_num_letter(min_num_letter: dict, words: pd.DataFrame) -> pd.DataFrame:\n",
    "    \"\"\"\n",
    "    Filters words by removing any words with letters repeated less than specified in min_num_letter.\n",
    "\n",
    "    Args:\n",
    "        min_num_letter (dict): {\n",
    "            'A':3,\n",
    "            'B':1,\n",
    "            etc.\n",
    "            } # Dictionary of letters with known minimum repeats and their minimums.\n",
    "        words (pd.DataFrame): List of current possible words and their frequencies ['word', 'wordFreq'].\n",
    "\n",
    "    Returns:\n",
    "        pd.DataFrame: Filtered words.\n",
    "    \"\"\"\n",
    "    if min_num_letter:\n",
    "        filtered_words = words.copy()\n",
    "        for restricted_letter in min_num_letter:\n",
    "            mask = filtered_words['word'].apply(lambda x: x.count(restricted_letter) < min_num_letter[restricted_letter])\n",
    "            filtered_words = filtered_words[~mask]\n",
    "        return filtered_words\n",
    "    else:\n",
    "        return words"
   ]
  },
  {
   "cell_type": "code",
   "execution_count": 9,
   "metadata": {},
   "outputs": [
    {
     "data": {
      "text/html": [
       "<div>\n",
       "<style scoped>\n",
       "    .dataframe tbody tr th:only-of-type {\n",
       "        vertical-align: middle;\n",
       "    }\n",
       "\n",
       "    .dataframe tbody tr th {\n",
       "        vertical-align: top;\n",
       "    }\n",
       "\n",
       "    .dataframe thead th {\n",
       "        text-align: right;\n",
       "    }\n",
       "</style>\n",
       "<table border=\"1\" class=\"dataframe\">\n",
       "  <thead>\n",
       "    <tr style=\"text-align: right;\">\n",
       "      <th></th>\n",
       "      <th>word</th>\n",
       "    </tr>\n",
       "  </thead>\n",
       "  <tbody>\n",
       "    <tr>\n",
       "      <th>0</th>\n",
       "      <td>HELLO</td>\n",
       "    </tr>\n",
       "  </tbody>\n",
       "</table>\n",
       "</div>"
      ],
      "text/plain": [
       "    word\n",
       "0  HELLO"
      ]
     },
     "execution_count": 9,
     "metadata": {},
     "output_type": "execute_result"
    }
   ],
   "source": [
    "test = pd.DataFrame(data={\n",
    "    'word':['HELLO', 'BELOW']\n",
    "})\n",
    "\n",
    "filter_min_num_letter(min_num_letter={'L':2}, words=test)"
   ]
  }
 ],
 "metadata": {
  "interpreter": {
   "hash": "ac6e5c07df0f1f93478b04ffbb3dea57b221fadf79c423c27f6ebc334d1210e6"
  },
  "kernelspec": {
   "display_name": "Python 3.8.12 ('ocr_projects')",
   "language": "python",
   "name": "python3"
  },
  "language_info": {
   "codemirror_mode": {
    "name": "ipython",
    "version": 3
   },
   "file_extension": ".py",
   "mimetype": "text/x-python",
   "name": "python",
   "nbconvert_exporter": "python",
   "pygments_lexer": "ipython3",
   "version": "3.8.12"
  },
  "orig_nbformat": 4
 },
 "nbformat": 4,
 "nbformat_minor": 2
}
