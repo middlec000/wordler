{
 "cells": [
  {
   "cell_type": "code",
   "execution_count": 1,
   "metadata": {},
   "outputs": [
    {
     "name": "stderr",
     "output_type": "stream",
     "text": [
      "2022-03-20 17:00:59.806 INFO    numexpr.utils: NumExpr defaulting to 8 threads.\n"
     ]
    }
   ],
   "source": [
    "import streamlit as st\n",
    "import pandas as pd\n",
    "from helper_methods import *"
   ]
  },
  {
   "cell_type": "code",
   "execution_count": 2,
   "metadata": {},
   "outputs": [],
   "source": [
    "datapath = 'https://raw.githubusercontent.com/middlec000/wordler/main/Data-Preprocessed/word_freq_wordle_only.csv'\n",
    "data = pd.read_csv(datapath).sort_values(by='wordFreq', ascending=False)"
   ]
  },
  {
   "cell_type": "code",
   "execution_count": 11,
   "metadata": {},
   "outputs": [
    {
     "name": "stdout",
     "output_type": "stream",
     "text": [
      "{'exact': ['.', '.', '.', 'I', '.'], 'exclude_at': {'A': {0, 1}, 'I': {4}}, 'exclude': {'L'}, 'max_num_letter': {'A': 1}}\n"
     ]
    }
   ],
   "source": [
    "guesses = {\n",
    "    'AALII':[1,0,0,2,1]\n",
    "}\n",
    "\n",
    "knowns = {\n",
    "    'exact':['.']*5,\n",
    "    'exclude_at':{},\n",
    "    'exclude':set({}),\n",
    "    'max_num_letter':{}\n",
    "}\n",
    "\n",
    "for guess in guesses:\n",
    "    knowns = add_known_info(guess=guess, result=guesses[guess], knowns=knowns)\n",
    "\n",
    "print(knowns)"
   ]
  },
  {
   "cell_type": "code",
   "execution_count": 10,
   "metadata": {},
   "outputs": [
    {
     "data": {
      "text/html": [
       "<div>\n",
       "<style scoped>\n",
       "    .dataframe tbody tr th:only-of-type {\n",
       "        vertical-align: middle;\n",
       "    }\n",
       "\n",
       "    .dataframe tbody tr th {\n",
       "        vertical-align: top;\n",
       "    }\n",
       "\n",
       "    .dataframe thead th {\n",
       "        text-align: right;\n",
       "    }\n",
       "</style>\n",
       "<table border=\"1\" class=\"dataframe\">\n",
       "  <thead>\n",
       "    <tr style=\"text-align: right;\">\n",
       "      <th></th>\n",
       "      <th>word</th>\n",
       "    </tr>\n",
       "  </thead>\n",
       "  <tbody>\n",
       "    <tr>\n",
       "      <th>0</th>\n",
       "      <td>HELLO</td>\n",
       "    </tr>\n",
       "    <tr>\n",
       "      <th>1</th>\n",
       "      <td>BELOW</td>\n",
       "    </tr>\n",
       "  </tbody>\n",
       "</table>\n",
       "</div>"
      ],
      "text/plain": [
       "    word\n",
       "0  HELLO\n",
       "1  BELOW"
      ]
     },
     "execution_count": 10,
     "metadata": {},
     "output_type": "execute_result"
    }
   ],
   "source": [
    "test = pd.DataFrame(data={\n",
    "    'word':['HELLO', 'BELOW']\n",
    "})\n",
    "\n",
    "filter_max_num_letters(max_num_letters={'L':2}, words=test)"
   ]
  }
 ],
 "metadata": {
  "interpreter": {
   "hash": "ac6e5c07df0f1f93478b04ffbb3dea57b221fadf79c423c27f6ebc334d1210e6"
  },
  "kernelspec": {
   "display_name": "Python 3.8.12 ('ocr_projects')",
   "language": "python",
   "name": "python3"
  },
  "language_info": {
   "codemirror_mode": {
    "name": "ipython",
    "version": 3
   },
   "file_extension": ".py",
   "mimetype": "text/x-python",
   "name": "python",
   "nbconvert_exporter": "python",
   "pygments_lexer": "ipython3",
   "version": "3.8.12"
  },
  "orig_nbformat": 4
 },
 "nbformat": 4,
 "nbformat_minor": 2
}
