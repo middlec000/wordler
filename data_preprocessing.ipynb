{
 "cells": [
  {
   "cell_type": "markdown",
   "metadata": {},
   "source": [
    "# Module Imports"
   ]
  },
  {
   "cell_type": "code",
   "execution_count": 6,
   "metadata": {},
   "outputs": [
    {
     "name": "stdout",
     "output_type": "stream",
     "text": [
      "pandas: 1.4.1\n",
      "re: 2.2.1\n",
      "nltk: 3.7\n"
     ]
    }
   ],
   "source": [
    "import pandas as pd\n",
    "import re\n",
    "import nltk\n",
    "from nltk.corpus import words\n",
    "\n",
    "print(f'pandas: {pd.__version__}')\n",
    "print(f're: {re.__version__}')\n",
    "print(f'nltk: {nltk.__version__}')"
   ]
  },
  {
   "cell_type": "markdown",
   "metadata": {},
   "source": [
    "# Global Variables"
   ]
  },
  {
   "cell_type": "code",
   "execution_count": 7,
   "metadata": {},
   "outputs": [],
   "source": [
    "word_length = 5"
   ]
  },
  {
   "cell_type": "markdown",
   "metadata": {},
   "source": [
    "# Kagle Dataset\n",
    "Obtained From:\n",
    "https://www.kaggle.com/rtatman/english-word-frequency  \n",
    "Accessed: 03/07/2022"
   ]
  },
  {
   "cell_type": "code",
   "execution_count": 8,
   "metadata": {},
   "outputs": [
    {
     "name": "stdout",
     "output_type": "stream",
     "text": [
      "333333\n"
     ]
    },
    {
     "data": {
      "text/html": [
       "<div>\n",
       "<style scoped>\n",
       "    .dataframe tbody tr th:only-of-type {\n",
       "        vertical-align: middle;\n",
       "    }\n",
       "\n",
       "    .dataframe tbody tr th {\n",
       "        vertical-align: top;\n",
       "    }\n",
       "\n",
       "    .dataframe thead th {\n",
       "        text-align: right;\n",
       "    }\n",
       "</style>\n",
       "<table border=\"1\" class=\"dataframe\">\n",
       "  <thead>\n",
       "    <tr style=\"text-align: right;\">\n",
       "      <th></th>\n",
       "      <th>word</th>\n",
       "      <th>count</th>\n",
       "    </tr>\n",
       "  </thead>\n",
       "  <tbody>\n",
       "    <tr>\n",
       "      <th>0</th>\n",
       "      <td>THE</td>\n",
       "      <td>23135851162</td>\n",
       "    </tr>\n",
       "    <tr>\n",
       "      <th>1</th>\n",
       "      <td>OF</td>\n",
       "      <td>13151942776</td>\n",
       "    </tr>\n",
       "    <tr>\n",
       "      <th>2</th>\n",
       "      <td>AND</td>\n",
       "      <td>12997637966</td>\n",
       "    </tr>\n",
       "    <tr>\n",
       "      <th>3</th>\n",
       "      <td>TO</td>\n",
       "      <td>12136980858</td>\n",
       "    </tr>\n",
       "    <tr>\n",
       "      <th>4</th>\n",
       "      <td>A</td>\n",
       "      <td>9081174698</td>\n",
       "    </tr>\n",
       "  </tbody>\n",
       "</table>\n",
       "</div>"
      ],
      "text/plain": [
       "  word        count\n",
       "0  THE  23135851162\n",
       "1   OF  13151942776\n",
       "2  AND  12997637966\n",
       "3   TO  12136980858\n",
       "4    A   9081174698"
      ]
     },
     "execution_count": 8,
     "metadata": {},
     "output_type": "execute_result"
    }
   ],
   "source": [
    "kaggle = pd.read_csv('Data-Original/unigram_freq.csv')\n",
    "print(len(kaggle))\n",
    "kaggle['word'] = kaggle['word'].astype('str').str.upper()\n",
    "kaggle.head()"
   ]
  },
  {
   "cell_type": "code",
   "execution_count": 9,
   "metadata": {},
   "outputs": [
    {
     "name": "stdout",
     "output_type": "stream",
     "text": [
      "39933\n"
     ]
    },
    {
     "data": {
      "text/html": [
       "<div>\n",
       "<style scoped>\n",
       "    .dataframe tbody tr th:only-of-type {\n",
       "        vertical-align: middle;\n",
       "    }\n",
       "\n",
       "    .dataframe tbody tr th {\n",
       "        vertical-align: top;\n",
       "    }\n",
       "\n",
       "    .dataframe thead th {\n",
       "        text-align: right;\n",
       "    }\n",
       "</style>\n",
       "<table border=\"1\" class=\"dataframe\">\n",
       "  <thead>\n",
       "    <tr style=\"text-align: right;\">\n",
       "      <th></th>\n",
       "      <th>word</th>\n",
       "      <th>wordFreq</th>\n",
       "    </tr>\n",
       "  </thead>\n",
       "  <tbody>\n",
       "    <tr>\n",
       "      <th>35</th>\n",
       "      <td>ABOUT</td>\n",
       "      <td>1226734006</td>\n",
       "    </tr>\n",
       "    <tr>\n",
       "      <th>45</th>\n",
       "      <td>OTHER</td>\n",
       "      <td>978481319</td>\n",
       "    </tr>\n",
       "    <tr>\n",
       "      <th>56</th>\n",
       "      <td>WHICH</td>\n",
       "      <td>810514085</td>\n",
       "    </tr>\n",
       "    <tr>\n",
       "      <th>57</th>\n",
       "      <td>THEIR</td>\n",
       "      <td>782849411</td>\n",
       "    </tr>\n",
       "    <tr>\n",
       "      <th>62</th>\n",
       "      <td>THERE</td>\n",
       "      <td>701170205</td>\n",
       "    </tr>\n",
       "  </tbody>\n",
       "</table>\n",
       "</div>"
      ],
      "text/plain": [
       "     word    wordFreq\n",
       "35  ABOUT  1226734006\n",
       "45  OTHER   978481319\n",
       "56  WHICH   810514085\n",
       "57  THEIR   782849411\n",
       "62  THERE   701170205"
      ]
     },
     "execution_count": 9,
     "metadata": {},
     "output_type": "execute_result"
    }
   ],
   "source": [
    "mask = kaggle['word'].apply(lambda x: len(x) == word_length)\n",
    "kaggle = kaggle[mask]\n",
    "print(len(kaggle))\n",
    "master_list = kaggle\n",
    "master_list = master_list.rename(columns={'count':'wordFreq'})\n",
    "master_list.head()"
   ]
  },
  {
   "cell_type": "markdown",
   "metadata": {},
   "source": [
    "# Import wordfrequency.info Data\n",
    "Obtained From:\n",
    "https://www.wordfrequency.info/samples.asp  \n",
    "Accessed: 03/06/2022  "
   ]
  },
  {
   "cell_type": "code",
   "execution_count": 10,
   "metadata": {},
   "outputs": [
    {
     "name": "stdout",
     "output_type": "stream",
     "text": [
      "10125\n"
     ]
    },
    {
     "data": {
      "text/html": [
       "<div>\n",
       "<style scoped>\n",
       "    .dataframe tbody tr th:only-of-type {\n",
       "        vertical-align: middle;\n",
       "    }\n",
       "\n",
       "    .dataframe tbody tr th {\n",
       "        vertical-align: top;\n",
       "    }\n",
       "\n",
       "    .dataframe thead th {\n",
       "        text-align: right;\n",
       "    }\n",
       "</style>\n",
       "<table border=\"1\" class=\"dataframe\">\n",
       "  <thead>\n",
       "    <tr style=\"text-align: right;\">\n",
       "      <th></th>\n",
       "      <th>lemRank</th>\n",
       "      <th>lemma</th>\n",
       "      <th>PoS</th>\n",
       "      <th>lemFreq</th>\n",
       "      <th>wordFreq</th>\n",
       "      <th>word</th>\n",
       "    </tr>\n",
       "  </thead>\n",
       "  <tbody>\n",
       "    <tr>\n",
       "      <th>0</th>\n",
       "      <td>5</td>\n",
       "      <td>of</td>\n",
       "      <td>i</td>\n",
       "      <td>23159162</td>\n",
       "      <td>23159162</td>\n",
       "      <td>of</td>\n",
       "    </tr>\n",
       "    <tr>\n",
       "      <th>1</th>\n",
       "      <td>15</td>\n",
       "      <td>do</td>\n",
       "      <td>v</td>\n",
       "      <td>8186412</td>\n",
       "      <td>4501047</td>\n",
       "      <td>do</td>\n",
       "    </tr>\n",
       "    <tr>\n",
       "      <th>2</th>\n",
       "      <td>15</td>\n",
       "      <td>do</td>\n",
       "      <td>v</td>\n",
       "      <td>8186412</td>\n",
       "      <td>1889734</td>\n",
       "      <td>did</td>\n",
       "    </tr>\n",
       "    <tr>\n",
       "      <th>3</th>\n",
       "      <td>15</td>\n",
       "      <td>do</td>\n",
       "      <td>v</td>\n",
       "      <td>8186412</td>\n",
       "      <td>964997</td>\n",
       "      <td>does</td>\n",
       "    </tr>\n",
       "    <tr>\n",
       "      <th>4</th>\n",
       "      <td>15</td>\n",
       "      <td>do</td>\n",
       "      <td>v</td>\n",
       "      <td>8186412</td>\n",
       "      <td>461455</td>\n",
       "      <td>doing</td>\n",
       "    </tr>\n",
       "  </tbody>\n",
       "</table>\n",
       "</div>"
      ],
      "text/plain": [
       "   lemRank lemma PoS   lemFreq  wordFreq   word\n",
       "0        5    of   i  23159162  23159162     of\n",
       "1       15    do   v   8186412   4501047     do\n",
       "2       15    do   v   8186412   1889734    did\n",
       "3       15    do   v   8186412    964997   does\n",
       "4       15    do   v   8186412    461455  doing"
      ]
     },
     "execution_count": 10,
     "metadata": {},
     "output_type": "execute_result"
    }
   ],
   "source": [
    "word_freq = pd.read_excel('Data-Original/lemmas_60k_words.xlsx')\n",
    "print(len(word_freq))\n",
    "word_freq.head()"
   ]
  },
  {
   "cell_type": "markdown",
   "metadata": {},
   "source": [
    "## Filter and Transform"
   ]
  },
  {
   "cell_type": "code",
   "execution_count": 11,
   "metadata": {},
   "outputs": [
    {
     "name": "stdout",
     "output_type": "stream",
     "text": [
      "680\n",
      "15\n"
     ]
    },
    {
     "data": {
      "text/html": [
       "<div>\n",
       "<style scoped>\n",
       "    .dataframe tbody tr th:only-of-type {\n",
       "        vertical-align: middle;\n",
       "    }\n",
       "\n",
       "    .dataframe tbody tr th {\n",
       "        vertical-align: top;\n",
       "    }\n",
       "\n",
       "    .dataframe thead th {\n",
       "        text-align: right;\n",
       "    }\n",
       "</style>\n",
       "<table border=\"1\" class=\"dataframe\">\n",
       "  <thead>\n",
       "    <tr style=\"text-align: right;\">\n",
       "      <th></th>\n",
       "      <th>word</th>\n",
       "      <th>wordFreq</th>\n",
       "    </tr>\n",
       "  </thead>\n",
       "  <tbody>\n",
       "    <tr>\n",
       "      <th>5215</th>\n",
       "      <td>UNSAY</td>\n",
       "      <td>19</td>\n",
       "    </tr>\n",
       "    <tr>\n",
       "      <th>6408</th>\n",
       "      <td>EXCOP</td>\n",
       "      <td>239</td>\n",
       "    </tr>\n",
       "    <tr>\n",
       "      <th>6664</th>\n",
       "      <td>FWORD</td>\n",
       "      <td>231</td>\n",
       "    </tr>\n",
       "    <tr>\n",
       "      <th>6815</th>\n",
       "      <td>WILED</td>\n",
       "      <td>8</td>\n",
       "    </tr>\n",
       "    <tr>\n",
       "      <th>7051</th>\n",
       "      <td>NIQAB</td>\n",
       "      <td>197</td>\n",
       "    </tr>\n",
       "  </tbody>\n",
       "</table>\n",
       "</div>"
      ],
      "text/plain": [
       "       word  wordFreq\n",
       "5215  UNSAY        19\n",
       "6408  EXCOP       239\n",
       "6664  FWORD       231\n",
       "6815  WILED         8\n",
       "7051  NIQAB       197"
      ]
     },
     "execution_count": 11,
     "metadata": {},
     "output_type": "execute_result"
    }
   ],
   "source": [
    "word_freq = word_freq[['word', 'wordFreq']].copy()\n",
    "word_freq['wordFreq'] = word_freq['wordFreq'].astype('int')\n",
    "word_freq['word'] = word_freq['word'].astype('str').str.upper()\n",
    "\n",
    "# Remove punctuation\n",
    "word_freq['word'] = word_freq['word'].apply(lambda x: re.sub(r'[^\\w\\s]', '', x))\n",
    "# Filter by word length\n",
    "mask = word_freq['word'].apply(lambda x: len(x) == word_length)\n",
    "word_freq = word_freq[mask]\n",
    "print(len(word_freq))\n",
    "# Filter out words already have\n",
    "mask = word_freq['word'].apply(lambda x: x in list(master_list['word']))\n",
    "word_freq = word_freq[~mask]\n",
    "print(len(word_freq))\n",
    "\n",
    "word_freq.head()"
   ]
  },
  {
   "cell_type": "code",
   "execution_count": 12,
   "metadata": {},
   "outputs": [
    {
     "name": "stdout",
     "output_type": "stream",
     "text": [
      "39933\n",
      "39948\n"
     ]
    }
   ],
   "source": [
    "print(len(master_list))\n",
    "master_list = pd.concat([master_list, word_freq], ignore_index=True)\n",
    "print(len(master_list))"
   ]
  },
  {
   "cell_type": "markdown",
   "metadata": {},
   "source": [
    "# NLTK Data\n",
    "Import  \n",
    "Filter and Transform"
   ]
  },
  {
   "cell_type": "code",
   "execution_count": 13,
   "metadata": {},
   "outputs": [
    {
     "name": "stdout",
     "output_type": "stream",
     "text": [
      "236736\n",
      "10422\n",
      "3919\n"
     ]
    },
    {
     "data": {
      "text/plain": [
       "['AALII',\n",
       " 'ABAFF',\n",
       " 'ABAMA',\n",
       " 'ABASH',\n",
       " 'ABASK',\n",
       " 'ABAVE',\n",
       " 'ABAZE',\n",
       " 'ABDAT',\n",
       " 'ABEAR',\n",
       " 'ABILO']"
      ]
     },
     "execution_count": 13,
     "metadata": {},
     "output_type": "execute_result"
    }
   ],
   "source": [
    "nltk_list = words.words()\n",
    "print(len(nltk_list))\n",
    "\n",
    "nltk_list = [x.upper() for x in nltk_list if len(x) == word_length]\n",
    "print(len(nltk_list))\n",
    "nltk_list = [x for x in nltk_list if x not in list(master_list['word'])]\n",
    "print(len(nltk_list))\n",
    "nltk_list[:10]"
   ]
  },
  {
   "cell_type": "markdown",
   "metadata": {},
   "source": [
    "## Combine Data"
   ]
  },
  {
   "cell_type": "code",
   "execution_count": 14,
   "metadata": {},
   "outputs": [
    {
     "name": "stdout",
     "output_type": "stream",
     "text": [
      "43867\n",
      "        word  wordFreq\n",
      "17094  AAAAH     52821\n",
      "22206  AAAAI     33992\n",
      "15752  AAACE     60117\n",
      "8831   AAACN    161080\n",
      "30023  AAAHH     20882\n",
      "        word  wordFreq\n",
      "18002  ZYVEX     48519\n",
      "27222  ZYVOX     24931\n",
      "4277   ZYXEL    591121\n",
      "24718  ZZINE     28813\n",
      "21533  ZZRIL     35796\n"
     ]
    }
   ],
   "source": [
    "master_list = pd.concat([master_list, pd.DataFrame(data={'word':nltk_list, 'wordFreq':[0] * len(nltk_list)})], ignore_index=True).sort_values(by='word')\n",
    "\n",
    "print(len(master_list))\n",
    "print(master_list.head())\n",
    "print(master_list.tail())"
   ]
  },
  {
   "cell_type": "markdown",
   "metadata": {},
   "source": [
    "# Add Wordle Wordlist\n",
    "Obtained From: \n",
    "https://www.nytimes.com/games/wordle/index.html  \n",
    "Inspect -> Application -> vars Ma and Oa  \n",
    "Accessed: 03/10/22"
   ]
  },
  {
   "cell_type": "code",
   "execution_count": 15,
   "metadata": {},
   "outputs": [
    {
     "name": "stdout",
     "output_type": "stream",
     "text": [
      "9531\n"
     ]
    }
   ],
   "source": [
    "with open('Data-Original/wordle_words_03_10_22.txt', 'r') as file:\n",
    "    wordle_words = file.read().replace('\\n', '').replace('\"', '').replace(',', '').upper().split(' ')\n",
    "\n",
    "only_wordle_words = master_list.copy()\n",
    "# Filter out words not in Wordle words\n",
    "mask = only_wordle_words['word'].apply(lambda x: x in wordle_words)\n",
    "only_wordle_words = only_wordle_words[mask]\n",
    "print(len(only_wordle_words))"
   ]
  },
  {
   "cell_type": "markdown",
   "metadata": {},
   "source": [
    "# Save Preprocessed Data"
   ]
  },
  {
   "cell_type": "code",
   "execution_count": 16,
   "metadata": {},
   "outputs": [],
   "source": [
    "master_list.to_csv('Data-Preprocessed/word_freq.csv', index=False)\n",
    "only_wordle_words.to_csv('Data-Preprocessed/word_freq_wordle_only.csv', index=False)"
   ]
  }
 ],
 "metadata": {
  "interpreter": {
   "hash": "d4e65fd403391fc192a9df0a2101c61986140267a07df91da3704987550b2fb5"
  },
  "kernelspec": {
   "display_name": "Python 3.8.12 ('base')",
   "language": "python",
   "name": "python3"
  },
  "language_info": {
   "codemirror_mode": {
    "name": "ipython",
    "version": 3
   },
   "file_extension": ".py",
   "mimetype": "text/x-python",
   "name": "python",
   "nbconvert_exporter": "python",
   "pygments_lexer": "ipython3",
   "version": "3.8.12"
  },
  "orig_nbformat": 4
 },
 "nbformat": 4,
 "nbformat_minor": 2
}
