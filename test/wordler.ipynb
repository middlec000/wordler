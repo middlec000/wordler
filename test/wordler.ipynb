{
 "cells": [
  {
   "cell_type": "code",
   "execution_count": 3,
   "metadata": {},
   "outputs": [
    {
     "name": "stdout",
     "output_type": "stream",
     "text": [
      "re: 2.2.1\n",
      "pandas: 1.3.4\n"
     ]
    },
    {
     "data": {
      "text/html": [
       "<div>\n",
       "<style scoped>\n",
       "    .dataframe tbody tr th:only-of-type {\n",
       "        vertical-align: middle;\n",
       "    }\n",
       "\n",
       "    .dataframe tbody tr th {\n",
       "        vertical-align: top;\n",
       "    }\n",
       "\n",
       "    .dataframe thead th {\n",
       "        text-align: right;\n",
       "    }\n",
       "</style>\n",
       "<table border=\"1\" class=\"dataframe\">\n",
       "  <thead>\n",
       "    <tr style=\"text-align: right;\">\n",
       "      <th></th>\n",
       "      <th>word</th>\n",
       "      <th>count</th>\n",
       "    </tr>\n",
       "  </thead>\n",
       "  <tbody>\n",
       "    <tr>\n",
       "      <th>17094</th>\n",
       "      <td>AAAAH</td>\n",
       "      <td>52821</td>\n",
       "    </tr>\n",
       "    <tr>\n",
       "      <th>22206</th>\n",
       "      <td>AAAAI</td>\n",
       "      <td>33992</td>\n",
       "    </tr>\n",
       "    <tr>\n",
       "      <th>15752</th>\n",
       "      <td>AAACE</td>\n",
       "      <td>60117</td>\n",
       "    </tr>\n",
       "    <tr>\n",
       "      <th>8831</th>\n",
       "      <td>AAACN</td>\n",
       "      <td>161080</td>\n",
       "    </tr>\n",
       "    <tr>\n",
       "      <th>30023</th>\n",
       "      <td>AAAHH</td>\n",
       "      <td>20882</td>\n",
       "    </tr>\n",
       "  </tbody>\n",
       "</table>\n",
       "</div>"
      ],
      "text/plain": [
       "        word   count\n",
       "17094  AAAAH   52821\n",
       "22206  AAAAI   33992\n",
       "15752  AAACE   60117\n",
       "8831   AAACN  161080\n",
       "30023  AAAHH   20882"
      ]
     },
     "execution_count": 3,
     "metadata": {},
     "output_type": "execute_result"
    }
   ],
   "source": [
    "import string\n",
    "import re\n",
    "import pandas as pd\n",
    "from helper_methods import *\n",
    "\n",
    "print(f're: {re.__version__}')\n",
    "print(f'pandas: {pd.__version__}')\n",
    "\n",
    "df = pd.read_csv('../Data-Preprocessed/word_freq.csv', index_col='Unnamed: 0')\n",
    "df.head()"
   ]
  },
  {
   "cell_type": "code",
   "execution_count": 4,
   "metadata": {},
   "outputs": [
    {
     "data": {
      "text/plain": [
       "True"
      ]
     },
     "execution_count": 4,
     "metadata": {},
     "output_type": "execute_result"
    }
   ],
   "source": [
    "wordle_word = 'HELLO'\n",
    "guess = 'WHEEL'\n",
    "\n",
    "print('HELLO' in list(df['word']))\n",
    "\n",
    "compare(guess = guess, actual = wordle_word)"
   ]
  },
  {
   "cell_type": "code",
   "execution_count": 14,
   "metadata": {},
   "outputs": [],
   "source": [
    "'''\n",
    "0 means not correct, \n",
    "1 means correct letter + incorrect location, \n",
    "2  means correct word + correct location\n",
    "'''\n",
    "\n",
    "guesses = {\n",
    "    'PROUD':[0,1,1,0,2],\n",
    "    'WEEDS':[0,0,0,1,0],\n",
    "    'BOARD':[0,2,2,2,2]\n",
    "}"
   ]
  },
  {
   "cell_type": "code",
   "execution_count": 15,
   "metadata": {},
   "outputs": [
    {
     "data": {
      "text/plain": [
       "{'exact': ['.', 'O', 'A', 'R', 'D'],\n",
       " 'inexact': {'A': ['.', '.', '.', '.', '.'],\n",
       "  'B': ['.', '.', '.', '.', '.'],\n",
       "  'C': ['.', '.', '.', '.', '.'],\n",
       "  'D': ['.', '.', '.', '.', '.'],\n",
       "  'E': ['.', '.', '.', '.', '.'],\n",
       "  'F': ['.', '.', '.', '.', '.'],\n",
       "  'G': ['.', '.', '.', '.', '.'],\n",
       "  'H': ['.', '.', '.', '.', '.'],\n",
       "  'I': ['.', '.', '.', '.', '.'],\n",
       "  'J': ['.', '.', '.', '.', '.'],\n",
       "  'K': ['.', '.', '.', '.', '.'],\n",
       "  'L': ['.', '.', '.', '.', '.'],\n",
       "  'M': ['.', '.', '.', '.', '.'],\n",
       "  'N': ['.', '.', '.', '.', '.'],\n",
       "  'O': ['.', '.', 'O', '.', '.'],\n",
       "  'P': ['.', '.', '.', '.', '.'],\n",
       "  'Q': ['.', '.', '.', '.', '.'],\n",
       "  'R': ['.', 'R', '.', '.', '.'],\n",
       "  'S': ['.', '.', '.', '.', '.'],\n",
       "  'T': ['.', '.', '.', '.', '.'],\n",
       "  'U': ['.', '.', '.', '.', '.'],\n",
       "  'V': ['.', '.', '.', '.', '.'],\n",
       "  'W': ['.', '.', '.', '.', '.'],\n",
       "  'X': ['.', '.', '.', '.', '.'],\n",
       "  'Y': ['.', '.', '.', '.', '.'],\n",
       "  'Z': ['.', '.', '.', '.', '.']},\n",
       " 'exclude': {'B', 'E', 'P', 'S', 'U', 'W'}}"
      ]
     },
     "execution_count": 15,
     "metadata": {},
     "output_type": "execute_result"
    }
   ],
   "source": [
    "knowns = {'exact':['.']*5, 'inexact':{}, 'exclude': set({})}\n",
    "alphabet = list(string.ascii_uppercase)\n",
    "for letter in alphabet:\n",
    "    knowns['inexact'][letter] = ['.']*5\n",
    "\n",
    "for guess, result in guesses.items():\n",
    "    knowns = add_known_info(guess=guess, result=result, knowns=knowns)\n",
    "\n",
    "knowns"
   ]
  },
  {
   "cell_type": "code",
   "execution_count": 17,
   "metadata": {},
   "outputs": [
    {
     "data": {
      "text/html": [
       "<div>\n",
       "<style scoped>\n",
       "    .dataframe tbody tr th:only-of-type {\n",
       "        vertical-align: middle;\n",
       "    }\n",
       "\n",
       "    .dataframe tbody tr th {\n",
       "        vertical-align: top;\n",
       "    }\n",
       "\n",
       "    .dataframe thead th {\n",
       "        text-align: right;\n",
       "    }\n",
       "</style>\n",
       "<table border=\"1\" class=\"dataframe\">\n",
       "  <thead>\n",
       "    <tr style=\"text-align: right;\">\n",
       "      <th></th>\n",
       "      <th>word</th>\n",
       "      <th>count</th>\n",
       "    </tr>\n",
       "  </thead>\n",
       "  <tbody>\n",
       "    <tr>\n",
       "      <th>5043</th>\n",
       "      <td>HOARD</td>\n",
       "      <td>433375</td>\n",
       "    </tr>\n",
       "    <tr>\n",
       "      <th>16666</th>\n",
       "      <td>FOARD</td>\n",
       "      <td>54932</td>\n",
       "    </tr>\n",
       "    <tr>\n",
       "      <th>29114</th>\n",
       "      <td>COARD</td>\n",
       "      <td>22092</td>\n",
       "    </tr>\n",
       "  </tbody>\n",
       "</table>\n",
       "</div>"
      ],
      "text/plain": [
       "        word   count\n",
       "5043   HOARD  433375\n",
       "16666  FOARD   54932\n",
       "29114  COARD   22092"
      ]
     },
     "execution_count": 17,
     "metadata": {},
     "output_type": "execute_result"
    }
   ],
   "source": [
    "filtered_data = filter(knowns=knowns, words=df)\n",
    "filtered_data"
   ]
  }
 ],
 "metadata": {
  "interpreter": {
   "hash": "d4e65fd403391fc192a9df0a2101c61986140267a07df91da3704987550b2fb5"
  },
  "kernelspec": {
   "display_name": "Python 3.8.12 ('base')",
   "language": "python",
   "name": "python3"
  },
  "language_info": {
   "codemirror_mode": {
    "name": "ipython",
    "version": 3
   },
   "file_extension": ".py",
   "mimetype": "text/x-python",
   "name": "python",
   "nbconvert_exporter": "python",
   "pygments_lexer": "ipython3",
   "version": "3.8.12"
  },
  "orig_nbformat": 4
 },
 "nbformat": 4,
 "nbformat_minor": 2
}
