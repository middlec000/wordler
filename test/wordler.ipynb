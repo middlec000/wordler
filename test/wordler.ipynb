{
 "cells": [
  {
   "cell_type": "code",
   "execution_count": 211,
   "metadata": {},
   "outputs": [
    {
     "data": {
      "text/html": [
       "<div>\n",
       "<style scoped>\n",
       "    .dataframe tbody tr th:only-of-type {\n",
       "        vertical-align: middle;\n",
       "    }\n",
       "\n",
       "    .dataframe tbody tr th {\n",
       "        vertical-align: top;\n",
       "    }\n",
       "\n",
       "    .dataframe thead th {\n",
       "        text-align: right;\n",
       "    }\n",
       "</style>\n",
       "<table border=\"1\" class=\"dataframe\">\n",
       "  <thead>\n",
       "    <tr style=\"text-align: right;\">\n",
       "      <th></th>\n",
       "      <th>word</th>\n",
       "      <th>wordFreq</th>\n",
       "    </tr>\n",
       "  </thead>\n",
       "  <tbody>\n",
       "    <tr>\n",
       "      <th>667</th>\n",
       "      <td>AALII</td>\n",
       "      <td>0</td>\n",
       "    </tr>\n",
       "    <tr>\n",
       "      <th>668</th>\n",
       "      <td>AARON</td>\n",
       "      <td>0</td>\n",
       "    </tr>\n",
       "    <tr>\n",
       "      <th>669</th>\n",
       "      <td>ABACA</td>\n",
       "      <td>0</td>\n",
       "    </tr>\n",
       "    <tr>\n",
       "      <th>670</th>\n",
       "      <td>ABACK</td>\n",
       "      <td>0</td>\n",
       "    </tr>\n",
       "    <tr>\n",
       "      <th>671</th>\n",
       "      <td>ABAFF</td>\n",
       "      <td>0</td>\n",
       "    </tr>\n",
       "  </tbody>\n",
       "</table>\n",
       "</div>"
      ],
      "text/plain": [
       "      word  wordFreq\n",
       "667  AALII         0\n",
       "668  AARON         0\n",
       "669  ABACA         0\n",
       "670  ABACK         0\n",
       "671  ABAFF         0"
      ]
     },
     "execution_count": 211,
     "metadata": {},
     "output_type": "execute_result"
    }
   ],
   "source": [
    "import string\n",
    "import re\n",
    "import pandas as pd\n",
    "\n",
    "df = pd.read_csv('../Data-Preprocessed/word_freq.csv', index_col='Unnamed: 0')\n",
    "df.head()"
   ]
  },
  {
   "cell_type": "code",
   "execution_count": 196,
   "metadata": {},
   "outputs": [
    {
     "data": {
      "text/plain": [
       "True"
      ]
     },
     "execution_count": 196,
     "metadata": {},
     "output_type": "execute_result"
    }
   ],
   "source": [
    "wordle_word = 'HELLO'\n",
    "'HELLO' in list(df['word'])"
   ]
  },
  {
   "cell_type": "markdown",
   "metadata": {},
   "source": [
    "0 means not correct, 1 means correct letter + incorrect location, 2  means correct word + correct location"
   ]
  },
  {
   "cell_type": "code",
   "execution_count": 183,
   "metadata": {},
   "outputs": [],
   "source": [
    "def compare(guess: str, actual: str):\n",
    "    if len(guess) != len(actual):\n",
    "        print('Lengths do not match!')\n",
    "    comparison = [0] * len(actual)\n",
    "    for i in range(len(actual)):\n",
    "        if guess[i] == actual[i]:\n",
    "            comparison[i] = 2\n",
    "        elif guess[i] in actual:\n",
    "            comparison[i] = 1\n",
    "    return comparison"
   ]
  },
  {
   "cell_type": "code",
   "execution_count": 184,
   "metadata": {},
   "outputs": [
    {
     "data": {
      "text/html": [
       "<div>\n",
       "<style scoped>\n",
       "    .dataframe tbody tr th:only-of-type {\n",
       "        vertical-align: middle;\n",
       "    }\n",
       "\n",
       "    .dataframe tbody tr th {\n",
       "        vertical-align: top;\n",
       "    }\n",
       "\n",
       "    .dataframe thead th {\n",
       "        text-align: right;\n",
       "    }\n",
       "</style>\n",
       "<table border=\"1\" class=\"dataframe\">\n",
       "  <thead>\n",
       "    <tr style=\"text-align: right;\">\n",
       "      <th></th>\n",
       "      <th>word</th>\n",
       "      <th>wordFreq</th>\n",
       "    </tr>\n",
       "  </thead>\n",
       "  <tbody>\n",
       "    <tr>\n",
       "      <th>4458</th>\n",
       "      <td>HECTE</td>\n",
       "      <td>0</td>\n",
       "    </tr>\n",
       "    <tr>\n",
       "      <th>8754</th>\n",
       "      <td>STOON</td>\n",
       "      <td>0</td>\n",
       "    </tr>\n",
       "    <tr>\n",
       "      <th>7399</th>\n",
       "      <td>REDIP</td>\n",
       "      <td>0</td>\n",
       "    </tr>\n",
       "    <tr>\n",
       "      <th>285</th>\n",
       "      <td>SCRUB</td>\n",
       "      <td>2093</td>\n",
       "    </tr>\n",
       "    <tr>\n",
       "      <th>2773</th>\n",
       "      <td>CROZE</td>\n",
       "      <td>0</td>\n",
       "    </tr>\n",
       "    <tr>\n",
       "      <th>2095</th>\n",
       "      <td>BUNDA</td>\n",
       "      <td>0</td>\n",
       "    </tr>\n",
       "    <tr>\n",
       "      <th>4315</th>\n",
       "      <td>GULFY</td>\n",
       "      <td>0</td>\n",
       "    </tr>\n",
       "    <tr>\n",
       "      <th>2928</th>\n",
       "      <td>DAVIT</td>\n",
       "      <td>0</td>\n",
       "    </tr>\n",
       "    <tr>\n",
       "      <th>5130</th>\n",
       "      <td>KILEH</td>\n",
       "      <td>0</td>\n",
       "    </tr>\n",
       "    <tr>\n",
       "      <th>6360</th>\n",
       "      <td>NOGAL</td>\n",
       "      <td>0</td>\n",
       "    </tr>\n",
       "  </tbody>\n",
       "</table>\n",
       "</div>"
      ],
      "text/plain": [
       "       word  wordFreq\n",
       "4458  HECTE         0\n",
       "8754  STOON         0\n",
       "7399  REDIP         0\n",
       "285   SCRUB      2093\n",
       "2773  CROZE         0\n",
       "2095  BUNDA         0\n",
       "4315  GULFY         0\n",
       "2928  DAVIT         0\n",
       "5130  KILEH         0\n",
       "6360  NOGAL         0"
      ]
     },
     "execution_count": 184,
     "metadata": {},
     "output_type": "execute_result"
    }
   ],
   "source": [
    "df.sample(n=10)"
   ]
  },
  {
   "cell_type": "code",
   "execution_count": 185,
   "metadata": {},
   "outputs": [
    {
     "data": {
      "text/plain": [
       "[0, 1, 1, 1, 1]"
      ]
     },
     "execution_count": 185,
     "metadata": {},
     "output_type": "execute_result"
    }
   ],
   "source": [
    "compare(\n",
    "    guess = 'WHEEL'\n",
    "    ,actual = wordle_word\n",
    ")"
   ]
  },
  {
   "cell_type": "code",
   "execution_count": 186,
   "metadata": {},
   "outputs": [],
   "source": [
    "guesses = {'ABACA':[0,0,0,0,0], 'HOMEY':[2,1,0,1,0], 'TRUSH':[0,0,0,0,1], 'WHEEL': [0,1,1,1,1]}"
   ]
  },
  {
   "cell_type": "code",
   "execution_count": 214,
   "metadata": {},
   "outputs": [],
   "source": [
    "def add_known_info(guess: str, result: list, knowns: dict) -> dict:\n",
    "    knowns_local = knowns.copy()\n",
    "    for i in range(len(guess)):\n",
    "        if guess[i] not in knowns_local['exact']:\n",
    "            if result[i] == 2:\n",
    "                knowns_local['exact'][i] = guess[i]\n",
    "            elif result[i] == 1:\n",
    "                knowns_local['inexact'][guess[i]][i] = guess[i]\n",
    "            elif result[i] == 0:\n",
    "                knowns_local['exclude'].add(guess[i])\n",
    "    return knowns_local"
   ]
  },
  {
   "cell_type": "code",
   "execution_count": 215,
   "metadata": {},
   "outputs": [
    {
     "data": {
      "text/plain": [
       "{'exact': ['H', '.', '.', '.', '.'],\n",
       " 'inexact': {'A': ['.', '.', '.', '.', '.'],\n",
       "  'B': ['.', '.', '.', '.', '.'],\n",
       "  'C': ['.', '.', '.', '.', '.'],\n",
       "  'D': ['.', '.', '.', '.', '.'],\n",
       "  'E': ['.', '.', 'E', 'E', '.'],\n",
       "  'F': ['.', '.', '.', '.', '.'],\n",
       "  'G': ['.', '.', '.', '.', '.'],\n",
       "  'H': ['.', '.', '.', '.', '.'],\n",
       "  'I': ['.', '.', '.', '.', '.'],\n",
       "  'J': ['.', '.', '.', '.', '.'],\n",
       "  'K': ['.', '.', '.', '.', '.'],\n",
       "  'L': ['.', '.', '.', '.', 'L'],\n",
       "  'M': ['.', '.', '.', '.', '.'],\n",
       "  'N': ['.', '.', '.', '.', '.'],\n",
       "  'O': ['.', 'O', '.', '.', '.'],\n",
       "  'P': ['.', '.', '.', '.', '.'],\n",
       "  'Q': ['.', '.', '.', '.', '.'],\n",
       "  'R': ['.', '.', '.', '.', '.'],\n",
       "  'S': ['.', '.', '.', '.', '.'],\n",
       "  'T': ['.', '.', '.', '.', '.'],\n",
       "  'U': ['.', '.', '.', '.', '.'],\n",
       "  'V': ['.', '.', '.', '.', '.'],\n",
       "  'W': ['.', '.', '.', '.', '.'],\n",
       "  'X': ['.', '.', '.', '.', '.'],\n",
       "  'Y': ['.', '.', '.', '.', '.'],\n",
       "  'Z': ['.', '.', '.', '.', '.']},\n",
       " 'exclude': {'A', 'B', 'C', 'M', 'R', 'S', 'T', 'U', 'W', 'Y'}}"
      ]
     },
     "execution_count": 215,
     "metadata": {},
     "output_type": "execute_result"
    }
   ],
   "source": [
    "knowns = {'exact':['.']*5, 'inexact':{}, 'exclude': set({})}\n",
    "alphabet = list(string.ascii_uppercase)\n",
    "for letter in alphabet:\n",
    "    knowns['inexact'][letter] = ['.']*5\n",
    "\n",
    "for guess, result in guesses.items():\n",
    "    knowns = add_known_info(guess=guess, result=result, knowns=knowns)\n",
    "knowns"
   ]
  },
  {
   "cell_type": "code",
   "execution_count": 219,
   "metadata": {},
   "outputs": [],
   "source": [
    "def filter(knowns: dict, words: pd.DataFrame) -> pd.DataFrame:\n",
    "    # Filter by exact matches\n",
    "    regex = ''.join(knowns['exact'])\n",
    "    filtered_data = words[words['word'].str.match(regex)]\n",
    "    # Filter by exclude - must contain none of these\n",
    "    mask = [False] * len(filtered_data)\n",
    "    for exclusion in knowns['exclude']:\n",
    "        mask = filtered_data['word'].str.contains(exclusion) | mask\n",
    "    filtered_data = filtered_data[~mask]\n",
    "    # Filter by inexact matches - must contain all\n",
    "    mask = [True] * len(filtered_data)\n",
    "    for inexact_match in knowns['inexact']:\n",
    "        if re.search('[A-Z]', ''.join(knowns['inexact'][inexact_match])):\n",
    "            mask = filtered_data['word'].str.contains(inexact_match) & mask\n",
    "    filtered_data = filtered_data[mask]\n",
    "    # Filter by inexact matches - must not contain at specific locations\n",
    "    mask = [False] * len(filtered_data)\n",
    "    for inexact_match in knowns['inexact']:\n",
    "        if re.search('[A-Z]', ''.join(knowns['inexact'][inexact_match])):\n",
    "            regex = ''.join(knowns['inexact'][inexact_match])\n",
    "            mask = filtered_data['word'].str.match(regex) | mask\n",
    "    filtered_data = filtered_data[~mask]\n",
    "    return filtered_data"
   ]
  },
  {
   "cell_type": "code",
   "execution_count": 220,
   "metadata": {},
   "outputs": [
    {
     "data": {
      "text/html": [
       "<div>\n",
       "<style scoped>\n",
       "    .dataframe tbody tr th:only-of-type {\n",
       "        vertical-align: middle;\n",
       "    }\n",
       "\n",
       "    .dataframe tbody tr th {\n",
       "        vertical-align: top;\n",
       "    }\n",
       "\n",
       "    .dataframe thead th {\n",
       "        text-align: right;\n",
       "    }\n",
       "</style>\n",
       "<table border=\"1\" class=\"dataframe\">\n",
       "  <thead>\n",
       "    <tr style=\"text-align: right;\">\n",
       "      <th></th>\n",
       "      <th>word</th>\n",
       "      <th>wordFreq</th>\n",
       "    </tr>\n",
       "  </thead>\n",
       "  <tbody>\n",
       "    <tr>\n",
       "      <th>4472</th>\n",
       "      <td>HELIO</td>\n",
       "      <td>0</td>\n",
       "    </tr>\n",
       "    <tr>\n",
       "      <th>4473</th>\n",
       "      <td>HELLO</td>\n",
       "      <td>0</td>\n",
       "    </tr>\n",
       "    <tr>\n",
       "      <th>4475</th>\n",
       "      <td>HELOE</td>\n",
       "      <td>0</td>\n",
       "    </tr>\n",
       "  </tbody>\n",
       "</table>\n",
       "</div>"
      ],
      "text/plain": [
       "       word  wordFreq\n",
       "4472  HELIO         0\n",
       "4473  HELLO         0\n",
       "4475  HELOE         0"
      ]
     },
     "execution_count": 220,
     "metadata": {},
     "output_type": "execute_result"
    }
   ],
   "source": [
    "filtered_data = filter(knowns=knowns, words=df)\n",
    "filtered_data"
   ]
  },
  {
   "cell_type": "code",
   "execution_count": null,
   "metadata": {},
   "outputs": [],
   "source": []
  }
 ],
 "metadata": {
  "interpreter": {
   "hash": "d4e65fd403391fc192a9df0a2101c61986140267a07df91da3704987550b2fb5"
  },
  "kernelspec": {
   "display_name": "Python 3.8.12 ('base')",
   "language": "python",
   "name": "python3"
  },
  "language_info": {
   "codemirror_mode": {
    "name": "ipython",
    "version": 3
   },
   "file_extension": ".py",
   "mimetype": "text/x-python",
   "name": "python",
   "nbconvert_exporter": "python",
   "pygments_lexer": "ipython3",
   "version": "3.8.12"
  },
  "orig_nbformat": 4
 },
 "nbformat": 4,
 "nbformat_minor": 2
}
